{
 "cells": [
  {
   "cell_type": "markdown",
   "id": "ba50caf3",
   "metadata": {},
   "source": [
    "## 目的\n",
    "\n",
    "本文件进行数据的预处理工作\n",
    "\n",
    "总目标是：加载原始数据，应用一系列标准化的清洗步骤，最后保存成一份干净、可随时用于模型训练的文件"
   ]
  },
  {
   "cell_type": "code",
   "execution_count": 1,
   "id": "5eda606e",
   "metadata": {},
   "outputs": [],
   "source": [
    "import mne\n",
    "import scipy.io\n",
    "import numpy as np\n",
    "import os"
   ]
  },
  {
   "cell_type": "code",
   "execution_count": null,
   "id": "78b29776",
   "metadata": {},
   "outputs": [],
   "source": [
    "# 由于ICA独立成分分析适合剔除眼电、肌电尾迹等\n",
    "# 这也就意味着如果我们应用ICA，那么应该是对于一段比较长的连续数据——包含这些成分的数据\n",
    "# 即对于Raw数据才适合做这样的处理\n",
    "# 那么由于数据集中的数据已经是Epochs了，所以不做ICA，以免重要的成分被错误剔除\n",
    "\n",
    "def preprocess_eeg_file(file_path, save_dir):\n",
    "\t\"\"\"\n",
    "\t加载、预处理并保存单个EEG数据文件。\n",
    "\t原始为.mat，处理后epochs数据保存为.fif,  labels数据保存为.npy\n",
    "\t\"\"\"\n",
    "\ttry:\n",
    "\t\tprint(f\"--- 开始处理: {os.path.basename(file_path)} ---\")\n",
    "\t\t# 加载数据\n",
    "\t\tmat_data = scipy.io.loadmat(file_path)\n",
    "\t\teeg_data = mat_data['data']\n",
    "\t\tlabels = mat_data['labels']\n",
    "\n",
    "\t\t# 转换为MNE Epochs对象\n",
    "\t\t# “Epochs”指的是从一段连续的、不间断的脑电记录中，根据实验中的特定“事件”截取出来的一个个小的数据片段\n",
    "\t\tch_names = [f'Ch{i+1}' for i in range(eeg_data.shape[1])] # eeg_data.shape = (trials, channels, samples)\n",
    "\t\tsampling_freq = 250 # 采样频率为250Hz\n",
    "\t\tinfo = mne.create_info(ch_names=ch_names, sfreq=sampling_freq, ch_types='eeg') #需要提供info对象\n",
    "\t\teeg_data_volts = eeg_data * 1e-6 # 单位转换; 转为V为单位，满足EpochsArray()的需要\n",
    "\t\tepochs = mne.EpochsArray(eeg_data_volts, info, verbose=False) # 将numpy数据封装成MNE EpochsArray\n",
    "\n",
    "\t\t# 陷波滤波\n",
    "\t\t# 因为对非Raw数据(我们的是Epochs)不太方便直接notch_filter()，所以迂回一下\n",
    "\t\t# 滤掉来自电网辐射的工频噪声——来自功率谱密度图PSD的观察\n",
    "\t\teeg_data_numpy = epochs.get_data() # 返回 shape (n_epochs, n_channels, n_times)\n",
    "\t\t#因为notch_filter不能直接对epochs数据做，所以要绕一下\n",
    "\t\teeg_data_notched = mne.filter.notch_filter(\n",
    "\t\t\t\tx=eeg_data_numpy,\n",
    "\t\t\t\tFs=epochs.info['sfreq'], # 传入采样率\n",
    "\t\t\t\tfreqs=np.array([50.0]),   # 要滤掉的频率\n",
    "\t\t\t\tverbose=False\n",
    "\t\t)\n",
    "\t\tepochs = mne.EpochsArray(eeg_data_notched, info, verbose=False)\n",
    "\t\t# 陷波滤波在坏段剔除之前，防止剔除时受到工频噪声的干扰\n",
    "\n",
    "\t\t# 带通滤波 (8-30Hz)， 再大一些3-35Hz，保证采集\n",
    "\t\t# 关于频率选择\n",
    "\t\t# 运动想象BCI技术的基础是一种叫做 事件相关去同步/同步 (Event-Related Desynchronization/Synchronization, ERD/ERS) 的大脑活动现象\n",
    "\t\t# 长期的脑科学研究发现，当人进行运动或想象运动时，其大脑感觉运动皮层区域的两种特定脑电波节律会发生显著的能量变化：\n",
    "\t\t# \tMu (µ) 节律：频率范围通常在 8-12 Hz。\n",
    "\t\t# \tBeta (β) 节律：频率范围通常在 13-30 Hz。\n",
    "\t\tepochs.filter(l_freq=3.0, h_freq=35.0, picks='eeg', verbose=False) # 3-35，比8-30稍大些，更稳妥\n",
    "\n",
    "\n",
    "\t\t# ----------------------------------------------------\n",
    "\t\t# **** 基于振幅的坏段剔除 ****\n",
    "\t\t# ----------------------------------------------------\n",
    "\t\t# 定义拒绝标准：对于EEG信号，如果峰峰值超过50微伏(μV)，则认为是坏段\n",
    "\t\t# 50e-6 表示 50 * 10^-6 V，即 50 μV\n",
    "\t\tinitial_trial_count = len(epochs)\n",
    "\t\tprint(f\"原始 trial 数量: {initial_trial_count}\")\n",
    "\n",
    "\t\treject_criteria = dict(eeg=50e-6) \n",
    "\t\t\n",
    "\t\t# 使用 .drop_bad() 方法自动丢弃不符合标准的Epochs\n",
    "\t\tepochs.drop_bad(reject=reject_criteria, verbose=True)\n",
    "\n",
    "\t\t# 为了让后续步骤正确运行，我们需要确保标签也同步更新\n",
    "\t\tlabels_kept = labels[0][epochs.selection] # 注意labels的形状是(1, trials)\n",
    "\t\t# ----------------------------------------------------\n",
    "\n",
    "\t\tfinal_trial_count = len(epochs)\n",
    "\t\tprint(f\"坏段剔除后剩余 trial 数量: {final_trial_count} (丢弃了 {initial_trial_count - final_trial_count} 个)\")\n",
    "\n",
    "\n",
    "\t\t#  保存处理后的数据\n",
    "\t\tbase_filename = os.path.basename(file_path).replace('.mat', '')\n",
    "\t\t# 保存Epochs数据\n",
    "\t\tepoch_save_path = os.path.join(save_dir, f\"{base_filename}-epo.fif\")\n",
    "\t\tepochs.save(epoch_save_path, overwrite=True, verbose=False)\n",
    "\t\t\n",
    "\t\t# 保存标签数据\n",
    "\t\tlabel_save_path = os.path.join(save_dir, f\"{base_filename}-labels.npy\")\n",
    "\t\tnp.save(label_save_path, labels_kept)\n",
    "\t\t\n",
    "\t\tprint(f\"处理完成，已保存至: {save_dir}\")\n",
    "\t\t\t\n",
    "\texcept Exception as e:\n",
    "\t\tprint(f\"!!!!!! 处理文件 {os.path.basename(file_path)} 时发生错误: {e} !!!!!!\")\n"
   ]
  },
  {
   "cell_type": "code",
   "execution_count": 6,
   "id": "b7ff33fc",
   "metadata": {},
   "outputs": [
    {
     "name": "stdout",
     "output_type": "stream",
     "text": [
      "--- 开始处理: sub-021_ses-01_task_motorimagery_eeg.mat ---\n"
     ]
    },
    {
     "name": "stderr",
     "output_type": "stream",
     "text": [
      "C:\\Users\\16155\\AppData\\Local\\Temp\\ipykernel_22080\\3959141652.py:31: RuntimeWarning: filter_length (1651) is longer than the signal (1000), distortion is likely. Reduce filter length or filter a longer signal.\n",
      "  eeg_data_notched = mne.filter.notch_filter(\n"
     ]
    },
    {
     "name": "stdout",
     "output_type": "stream",
     "text": [
      "原始 trial 数量: 94\n",
      "    Rejecting  epoch based on EEG : ['Ch32']\n",
      "    Rejecting  epoch based on EEG : ['Ch22']\n",
      "    Rejecting  epoch based on EEG : ['Ch22']\n",
      "    Rejecting  epoch based on EEG : ['Ch22']\n",
      "    Rejecting  epoch based on EEG : ['Ch22']\n",
      "    Rejecting  epoch based on EEG : ['Ch22']\n",
      "    Rejecting  epoch based on EEG : ['Ch22']\n",
      "    Rejecting  epoch based on EEG : ['Ch22', 'Ch30', 'Ch32']\n",
      "    Rejecting  epoch based on EEG : ['Ch30', 'Ch32']\n",
      "    Rejecting  epoch based on EEG : ['Ch21']\n",
      "    Rejecting  epoch based on EEG : ['Ch32']\n",
      "    Rejecting  epoch based on EEG : ['Ch30', 'Ch32']\n",
      "    Rejecting  epoch based on EEG : ['Ch25']\n",
      "    Rejecting  epoch based on EEG : ['Ch13']\n",
      "    Rejecting  epoch based on EEG : ['Ch13']\n",
      "    Rejecting  epoch based on EEG : ['Ch17']\n",
      "    Rejecting  epoch based on EEG : ['Ch22']\n",
      "17 bad epochs dropped\n",
      "坏段剔除后剩余 trial 数量: 77 (丢弃了 17 个)\n",
      "处理完成，已保存至: ./data/val-processed/\n",
      "--- 开始处理: sub-021_ses-02_task_motorimagery_eeg.mat ---\n"
     ]
    },
    {
     "name": "stderr",
     "output_type": "stream",
     "text": [
      "C:\\Users\\16155\\AppData\\Local\\Temp\\ipykernel_22080\\3959141652.py:31: RuntimeWarning: filter_length (1651) is longer than the signal (1000), distortion is likely. Reduce filter length or filter a longer signal.\n",
      "  eeg_data_notched = mne.filter.notch_filter(\n"
     ]
    },
    {
     "name": "stdout",
     "output_type": "stream",
     "text": [
      "原始 trial 数量: 99\n",
      "    Rejecting  epoch based on EEG : ['Ch29']\n",
      "    Rejecting  epoch based on EEG : ['Ch29']\n",
      "    Rejecting  epoch based on EEG : ['Ch29']\n",
      "    Rejecting  epoch based on EEG : ['Ch29']\n",
      "    Rejecting  epoch based on EEG : ['Ch29']\n",
      "    Rejecting  epoch based on EEG : ['Ch29']\n",
      "    Rejecting  epoch based on EEG : ['Ch29']\n",
      "    Rejecting  epoch based on EEG : ['Ch29']\n",
      "    Rejecting  epoch based on EEG : ['Ch29']\n",
      "    Rejecting  epoch based on EEG : ['Ch29']\n",
      "    Rejecting  epoch based on EEG : ['Ch29']\n",
      "    Rejecting  epoch based on EEG : ['Ch29']\n",
      "    Rejecting  epoch based on EEG : ['Ch29']\n",
      "    Rejecting  epoch based on EEG : ['Ch29']\n",
      "    Rejecting  epoch based on EEG : ['Ch29']\n",
      "    Rejecting  epoch based on EEG : ['Ch29']\n",
      "    Rejecting  epoch based on EEG : ['Ch29']\n",
      "    Rejecting  epoch based on EEG : ['Ch29']\n",
      "    Rejecting  epoch based on EEG : ['Ch29']\n",
      "    Rejecting  epoch based on EEG : ['Ch29']\n",
      "    Rejecting  epoch based on EEG : ['Ch29']\n",
      "    Rejecting  epoch based on EEG : ['Ch29']\n",
      "    Rejecting  epoch based on EEG : ['Ch29']\n",
      "    Rejecting  epoch based on EEG : ['Ch29']\n",
      "    Rejecting  epoch based on EEG : ['Ch29']\n",
      "    Rejecting  epoch based on EEG : ['Ch29']\n",
      "    Rejecting  epoch based on EEG : ['Ch29']\n",
      "    Rejecting  epoch based on EEG : ['Ch29']\n",
      "    Rejecting  epoch based on EEG : ['Ch29']\n",
      "    Rejecting  epoch based on EEG : ['Ch29']\n",
      "    Rejecting  epoch based on EEG : ['Ch29']\n",
      "    Rejecting  epoch based on EEG : ['Ch29', 'Ch30']\n",
      "    Rejecting  epoch based on EEG : ['Ch29']\n",
      "    Rejecting  epoch based on EEG : ['Ch29']\n",
      "34 bad epochs dropped\n",
      "坏段剔除后剩余 trial 数量: 65 (丢弃了 34 个)\n",
      "处理完成，已保存至: ./data/val-processed/\n",
      "--- 开始处理: sub-021_ses-03_task_motorimagery_eeg.mat ---\n"
     ]
    },
    {
     "name": "stderr",
     "output_type": "stream",
     "text": [
      "C:\\Users\\16155\\AppData\\Local\\Temp\\ipykernel_22080\\3959141652.py:31: RuntimeWarning: filter_length (1651) is longer than the signal (1000), distortion is likely. Reduce filter length or filter a longer signal.\n",
      "  eeg_data_notched = mne.filter.notch_filter(\n"
     ]
    },
    {
     "name": "stdout",
     "output_type": "stream",
     "text": [
      "原始 trial 数量: 93\n",
      "0 bad epochs dropped\n",
      "坏段剔除后剩余 trial 数量: 93 (丢弃了 0 个)\n",
      "处理完成，已保存至: ./data/val-processed/\n",
      "--- 开始处理: sub-021_ses-04_task_motorimagery_eeg.mat ---\n"
     ]
    },
    {
     "name": "stderr",
     "output_type": "stream",
     "text": [
      "C:\\Users\\16155\\AppData\\Local\\Temp\\ipykernel_22080\\3959141652.py:31: RuntimeWarning: filter_length (1651) is longer than the signal (1000), distortion is likely. Reduce filter length or filter a longer signal.\n",
      "  eeg_data_notched = mne.filter.notch_filter(\n"
     ]
    },
    {
     "name": "stdout",
     "output_type": "stream",
     "text": [
      "原始 trial 数量: 100\n",
      "    Rejecting  epoch based on EEG : ['Ch31', 'Ch32']\n",
      "    Rejecting  epoch based on EEG : ['Ch31', 'Ch32']\n",
      "    Rejecting  epoch based on EEG : ['Ch31', 'Ch32']\n",
      "    Rejecting  epoch based on EEG : ['Ch31', 'Ch32']\n",
      "    Rejecting  epoch based on EEG : ['Ch31', 'Ch32']\n",
      "    Rejecting  epoch based on EEG : ['Ch31', 'Ch32']\n",
      "    Rejecting  epoch based on EEG : ['Ch31', 'Ch32']\n",
      "    Rejecting  epoch based on EEG : ['Ch31', 'Ch32']\n",
      "    Rejecting  epoch based on EEG : ['Ch31', 'Ch32']\n",
      "    Rejecting  epoch based on EEG : ['Ch31', 'Ch32']\n",
      "    Rejecting  epoch based on EEG : ['Ch31', 'Ch32']\n",
      "    Rejecting  epoch based on EEG : ['Ch31', 'Ch32']\n",
      "    Rejecting  epoch based on EEG : ['Ch31', 'Ch32']\n",
      "    Rejecting  epoch based on EEG : ['Ch31', 'Ch32']\n",
      "    Rejecting  epoch based on EEG : ['Ch31', 'Ch32']\n",
      "    Rejecting  epoch based on EEG : ['Ch31', 'Ch32']\n",
      "    Rejecting  epoch based on EEG : ['Ch31', 'Ch32']\n",
      "    Rejecting  epoch based on EEG : ['Ch31', 'Ch32']\n",
      "    Rejecting  epoch based on EEG : ['Ch31', 'Ch32']\n",
      "    Rejecting  epoch based on EEG : ['Ch31', 'Ch32']\n",
      "    Rejecting  epoch based on EEG : ['Ch31', 'Ch32']\n",
      "    Rejecting  epoch based on EEG : ['Ch31', 'Ch32']\n",
      "    Rejecting  epoch based on EEG : ['Ch31', 'Ch32']\n",
      "    Rejecting  epoch based on EEG : ['Ch31', 'Ch32']\n",
      "    Rejecting  epoch based on EEG : ['Ch31', 'Ch32']\n",
      "    Rejecting  epoch based on EEG : ['Ch31', 'Ch32']\n",
      "    Rejecting  epoch based on EEG : ['Ch31', 'Ch32']\n",
      "    Rejecting  epoch based on EEG : ['Ch31', 'Ch32']\n",
      "    Rejecting  epoch based on EEG : ['Ch31', 'Ch32']\n",
      "    Rejecting  epoch based on EEG : ['Ch31', 'Ch32']\n",
      "    Rejecting  epoch based on EEG : ['Ch31', 'Ch32']\n",
      "    Rejecting  epoch based on EEG : ['Ch31', 'Ch32']\n",
      "    Rejecting  epoch based on EEG : ['Ch31', 'Ch32']\n",
      "    Rejecting  epoch based on EEG : ['Ch31', 'Ch32']\n",
      "    Rejecting  epoch based on EEG : ['Ch31', 'Ch32']\n",
      "    Rejecting  epoch based on EEG : ['Ch31', 'Ch32']\n",
      "    Rejecting  epoch based on EEG : ['Ch31', 'Ch32']\n",
      "    Rejecting  epoch based on EEG : ['Ch31', 'Ch32']\n",
      "    Rejecting  epoch based on EEG : ['Ch31', 'Ch32']\n",
      "    Rejecting  epoch based on EEG : ['Ch31', 'Ch32']\n",
      "    Rejecting  epoch based on EEG : ['Ch31', 'Ch32']\n",
      "    Rejecting  epoch based on EEG : ['Ch31', 'Ch32']\n",
      "    Rejecting  epoch based on EEG : ['Ch31', 'Ch32']\n",
      "    Rejecting  epoch based on EEG : ['Ch31', 'Ch32']\n",
      "    Rejecting  epoch based on EEG : ['Ch31', 'Ch32']\n",
      "    Rejecting  epoch based on EEG : ['Ch31', 'Ch32']\n",
      "    Rejecting  epoch based on EEG : ['Ch31', 'Ch32']\n",
      "    Rejecting  epoch based on EEG : ['Ch31', 'Ch32']\n",
      "    Rejecting  epoch based on EEG : ['Ch31', 'Ch32']\n",
      "    Rejecting  epoch based on EEG : ['Ch31', 'Ch32']\n",
      "    Rejecting  epoch based on EEG : ['Ch31', 'Ch32']\n",
      "    Rejecting  epoch based on EEG : ['Ch31', 'Ch32']\n",
      "    Rejecting  epoch based on EEG : ['Ch31', 'Ch32']\n",
      "    Rejecting  epoch based on EEG : ['Ch31', 'Ch32']\n",
      "    Rejecting  epoch based on EEG : ['Ch31', 'Ch32']\n",
      "    Rejecting  epoch based on EEG : ['Ch31', 'Ch32']\n",
      "    Rejecting  epoch based on EEG : ['Ch31', 'Ch32']\n",
      "    Rejecting  epoch based on EEG : ['Ch31', 'Ch32']\n",
      "    Rejecting  epoch based on EEG : ['Ch31', 'Ch32']\n",
      "    Rejecting  epoch based on EEG : ['Ch31', 'Ch32']\n",
      "    Rejecting  epoch based on EEG : ['Ch31', 'Ch32']\n",
      "    Rejecting  epoch based on EEG : ['Ch31', 'Ch32']\n",
      "    Rejecting  epoch based on EEG : ['Ch31', 'Ch32']\n",
      "    Rejecting  epoch based on EEG : ['Ch31', 'Ch32']\n",
      "    Rejecting  epoch based on EEG : ['Ch31', 'Ch32']\n",
      "    Rejecting  epoch based on EEG : ['Ch31', 'Ch32']\n",
      "    Rejecting  epoch based on EEG : ['Ch31', 'Ch32']\n",
      "    Rejecting  epoch based on EEG : ['Ch31', 'Ch32']\n",
      "    Rejecting  epoch based on EEG : ['Ch31', 'Ch32']\n",
      "    Rejecting  epoch based on EEG : ['Ch31', 'Ch32']\n",
      "    Rejecting  epoch based on EEG : ['Ch31', 'Ch32']\n",
      "    Rejecting  epoch based on EEG : ['Ch31', 'Ch32']\n",
      "    Rejecting  epoch based on EEG : ['Ch31', 'Ch32']\n",
      "    Rejecting  epoch based on EEG : ['Ch31', 'Ch32']\n",
      "    Rejecting  epoch based on EEG : ['Ch31', 'Ch32']\n",
      "    Rejecting  epoch based on EEG : ['Ch31', 'Ch32']\n",
      "    Rejecting  epoch based on EEG : ['Ch31', 'Ch32']\n",
      "    Rejecting  epoch based on EEG : ['Ch31', 'Ch32']\n",
      "    Rejecting  epoch based on EEG : ['Ch31', 'Ch32']\n",
      "    Rejecting  epoch based on EEG : ['Ch31', 'Ch32']\n",
      "    Rejecting  epoch based on EEG : ['Ch31', 'Ch32']\n",
      "    Rejecting  epoch based on EEG : ['Ch31', 'Ch32']\n",
      "    Rejecting  epoch based on EEG : ['Ch31', 'Ch32']\n",
      "    Rejecting  epoch based on EEG : ['Ch31', 'Ch32']\n",
      "    Rejecting  epoch based on EEG : ['Ch31', 'Ch32']\n",
      "    Rejecting  epoch based on EEG : ['Ch31', 'Ch32']\n",
      "    Rejecting  epoch based on EEG : ['Ch31', 'Ch32']\n",
      "    Rejecting  epoch based on EEG : ['Ch31', 'Ch32']\n",
      "    Rejecting  epoch based on EEG : ['Ch31', 'Ch32']\n",
      "    Rejecting  epoch based on EEG : ['Ch31', 'Ch32']\n",
      "    Rejecting  epoch based on EEG : ['Ch31', 'Ch32']\n",
      "    Rejecting  epoch based on EEG : ['Ch31', 'Ch32']\n",
      "    Rejecting  epoch based on EEG : ['Ch31', 'Ch32']\n",
      "    Rejecting  epoch based on EEG : ['Ch31', 'Ch32']\n",
      "    Rejecting  epoch based on EEG : ['Ch31', 'Ch32']\n",
      "    Rejecting  epoch based on EEG : ['Ch31', 'Ch32']\n",
      "    Rejecting  epoch based on EEG : ['Ch31', 'Ch32']\n",
      "    Rejecting  epoch based on EEG : ['Ch31', 'Ch32']\n",
      "    Rejecting  epoch based on EEG : ['Ch31', 'Ch32']\n",
      "    Rejecting  epoch based on EEG : ['Ch31', 'Ch32']\n",
      "100 bad epochs dropped\n",
      "坏段剔除后剩余 trial 数量: 0 (丢弃了 100 个)\n",
      "处理完成，已保存至: ./data/val-processed/\n",
      "--- 开始处理: sub-021_ses-05_task_motorimagery_eeg.mat ---\n"
     ]
    },
    {
     "name": "stderr",
     "output_type": "stream",
     "text": [
      "C:\\Users\\16155\\AppData\\Local\\Temp\\ipykernel_22080\\3959141652.py:60: RuntimeWarning: All epochs were dropped!\n",
      "You might need to alter reject/flat-criteria or drop bad channels to avoid this. You can use Epochs.plot_drop_log() to see which channels are responsible for the dropping of epochs.\n",
      "  epochs.drop_bad(reject=reject_criteria, verbose=True)\n",
      "C:\\Users\\16155\\AppData\\Local\\Temp\\ipykernel_22080\\3959141652.py:74: RuntimeWarning: Saving epochs with no data\n",
      "  epochs.save(epoch_save_path, overwrite=True, verbose=False)\n",
      "C:\\Users\\16155\\AppData\\Local\\Temp\\ipykernel_22080\\3959141652.py:74: RuntimeWarning: epochs._get_data() can't run because this Epochs-object is empty. You might want to check Epochs.drop_log or Epochs.plot_drop_log() to see why epochs were dropped.\n",
      "  epochs.save(epoch_save_path, overwrite=True, verbose=False)\n",
      "C:\\Users\\16155\\AppData\\Local\\Temp\\ipykernel_22080\\3959141652.py:31: RuntimeWarning: filter_length (1651) is longer than the signal (1000), distortion is likely. Reduce filter length or filter a longer signal.\n",
      "  eeg_data_notched = mne.filter.notch_filter(\n"
     ]
    },
    {
     "name": "stdout",
     "output_type": "stream",
     "text": [
      "原始 trial 数量: 96\n",
      "0 bad epochs dropped\n",
      "坏段剔除后剩余 trial 数量: 96 (丢弃了 0 个)\n",
      "处理完成，已保存至: ./data/val-processed/\n",
      "--- 开始处理: sub-022_ses-01_task_motorimagery_eeg.mat ---\n"
     ]
    },
    {
     "name": "stderr",
     "output_type": "stream",
     "text": [
      "C:\\Users\\16155\\AppData\\Local\\Temp\\ipykernel_22080\\3959141652.py:31: RuntimeWarning: filter_length (1651) is longer than the signal (1000), distortion is likely. Reduce filter length or filter a longer signal.\n",
      "  eeg_data_notched = mne.filter.notch_filter(\n"
     ]
    },
    {
     "name": "stdout",
     "output_type": "stream",
     "text": [
      "原始 trial 数量: 87\n",
      "0 bad epochs dropped\n",
      "坏段剔除后剩余 trial 数量: 87 (丢弃了 0 个)\n",
      "处理完成，已保存至: ./data/val-processed/\n",
      "--- 开始处理: sub-022_ses-02_task_motorimagery_eeg.mat ---\n"
     ]
    },
    {
     "name": "stderr",
     "output_type": "stream",
     "text": [
      "C:\\Users\\16155\\AppData\\Local\\Temp\\ipykernel_22080\\3959141652.py:31: RuntimeWarning: filter_length (1651) is longer than the signal (1000), distortion is likely. Reduce filter length or filter a longer signal.\n",
      "  eeg_data_notched = mne.filter.notch_filter(\n"
     ]
    },
    {
     "name": "stdout",
     "output_type": "stream",
     "text": [
      "原始 trial 数量: 100\n",
      "0 bad epochs dropped\n",
      "坏段剔除后剩余 trial 数量: 100 (丢弃了 0 个)\n",
      "处理完成，已保存至: ./data/val-processed/\n",
      "--- 开始处理: sub-022_ses-03_task_motorimagery_eeg.mat ---\n"
     ]
    },
    {
     "name": "stderr",
     "output_type": "stream",
     "text": [
      "C:\\Users\\16155\\AppData\\Local\\Temp\\ipykernel_22080\\3959141652.py:31: RuntimeWarning: filter_length (1651) is longer than the signal (1000), distortion is likely. Reduce filter length or filter a longer signal.\n",
      "  eeg_data_notched = mne.filter.notch_filter(\n"
     ]
    },
    {
     "name": "stdout",
     "output_type": "stream",
     "text": [
      "原始 trial 数量: 100\n",
      "0 bad epochs dropped\n",
      "坏段剔除后剩余 trial 数量: 100 (丢弃了 0 个)\n",
      "处理完成，已保存至: ./data/val-processed/\n",
      "--- 开始处理: sub-022_ses-04_task_motorimagery_eeg.mat ---\n"
     ]
    },
    {
     "name": "stderr",
     "output_type": "stream",
     "text": [
      "C:\\Users\\16155\\AppData\\Local\\Temp\\ipykernel_22080\\3959141652.py:31: RuntimeWarning: filter_length (1651) is longer than the signal (1000), distortion is likely. Reduce filter length or filter a longer signal.\n",
      "  eeg_data_notched = mne.filter.notch_filter(\n"
     ]
    },
    {
     "name": "stdout",
     "output_type": "stream",
     "text": [
      "原始 trial 数量: 100\n",
      "    Rejecting  epoch based on EEG : ['Ch31']\n",
      "    Rejecting  epoch based on EEG : ['Ch31']\n",
      "    Rejecting  epoch based on EEG : ['Ch31']\n",
      "    Rejecting  epoch based on EEG : ['Ch31']\n",
      "    Rejecting  epoch based on EEG : ['Ch31']\n",
      "    Rejecting  epoch based on EEG : ['Ch31']\n",
      "    Rejecting  epoch based on EEG : ['Ch31']\n",
      "    Rejecting  epoch based on EEG : ['Ch31']\n",
      "    Rejecting  epoch based on EEG : ['Ch31']\n",
      "    Rejecting  epoch based on EEG : ['Ch31']\n",
      "    Rejecting  epoch based on EEG : ['Ch31']\n",
      "    Rejecting  epoch based on EEG : ['Ch25']\n",
      "    Rejecting  epoch based on EEG : ['Ch25']\n",
      "    Rejecting  epoch based on EEG : ['Ch25']\n",
      "14 bad epochs dropped\n",
      "坏段剔除后剩余 trial 数量: 86 (丢弃了 14 个)\n",
      "处理完成，已保存至: ./data/val-processed/\n",
      "--- 开始处理: sub-022_ses-05_task_motorimagery_eeg.mat ---\n"
     ]
    },
    {
     "name": "stderr",
     "output_type": "stream",
     "text": [
      "C:\\Users\\16155\\AppData\\Local\\Temp\\ipykernel_22080\\3959141652.py:31: RuntimeWarning: filter_length (1651) is longer than the signal (1000), distortion is likely. Reduce filter length or filter a longer signal.\n",
      "  eeg_data_notched = mne.filter.notch_filter(\n"
     ]
    },
    {
     "name": "stdout",
     "output_type": "stream",
     "text": [
      "原始 trial 数量: 93\n",
      "0 bad epochs dropped\n",
      "坏段剔除后剩余 trial 数量: 93 (丢弃了 0 个)\n",
      "处理完成，已保存至: ./data/val-processed/\n",
      "--- 开始处理: sub-023_ses-01_task_motorimagery_eeg.mat ---\n"
     ]
    },
    {
     "name": "stderr",
     "output_type": "stream",
     "text": [
      "C:\\Users\\16155\\AppData\\Local\\Temp\\ipykernel_22080\\3959141652.py:31: RuntimeWarning: filter_length (1651) is longer than the signal (1000), distortion is likely. Reduce filter length or filter a longer signal.\n",
      "  eeg_data_notched = mne.filter.notch_filter(\n"
     ]
    },
    {
     "name": "stdout",
     "output_type": "stream",
     "text": [
      "原始 trial 数量: 96\n",
      "    Rejecting  epoch based on EEG : ['Ch4', 'Ch29', 'Ch30', 'Ch31']\n",
      "    Rejecting  epoch based on EEG : ['Ch4', 'Ch29', 'Ch30', 'Ch31']\n",
      "    Rejecting  epoch based on EEG : ['Ch29', 'Ch30', 'Ch31']\n",
      "    Rejecting  epoch based on EEG : ['Ch29', 'Ch30', 'Ch31']\n",
      "    Rejecting  epoch based on EEG : ['Ch29', 'Ch30', 'Ch31']\n",
      "    Rejecting  epoch based on EEG : ['Ch30', 'Ch31']\n",
      "    Rejecting  epoch based on EEG : ['Ch29', 'Ch30', 'Ch31', 'Ch32']\n",
      "    Rejecting  epoch based on EEG : ['Ch4', 'Ch30', 'Ch31', 'Ch32']\n",
      "    Rejecting  epoch based on EEG : ['Ch30', 'Ch31', 'Ch32']\n",
      "    Rejecting  epoch based on EEG : ['Ch2', 'Ch4', 'Ch30', 'Ch31', 'Ch32']\n",
      "    Rejecting  epoch based on EEG : ['Ch4', 'Ch30', 'Ch31', 'Ch32']\n",
      "    Rejecting  epoch based on EEG : ['Ch4', 'Ch30', 'Ch31', 'Ch32']\n",
      "    Rejecting  epoch based on EEG : ['Ch4', 'Ch30', 'Ch31', 'Ch32']\n",
      "    Rejecting  epoch based on EEG : ['Ch30', 'Ch31', 'Ch32']\n",
      "    Rejecting  epoch based on EEG : ['Ch30', 'Ch31', 'Ch32']\n",
      "    Rejecting  epoch based on EEG : ['Ch30', 'Ch31', 'Ch32']\n",
      "    Rejecting  epoch based on EEG : ['Ch30', 'Ch31', 'Ch32']\n",
      "    Rejecting  epoch based on EEG : ['Ch30', 'Ch31', 'Ch32']\n",
      "    Rejecting  epoch based on EEG : ['Ch30', 'Ch31', 'Ch32']\n",
      "    Rejecting  epoch based on EEG : ['Ch30', 'Ch31', 'Ch32']\n",
      "    Rejecting  epoch based on EEG : ['Ch29', 'Ch30', 'Ch31', 'Ch32']\n",
      "    Rejecting  epoch based on EEG : ['Ch4', 'Ch29', 'Ch30', 'Ch31', 'Ch32']\n",
      "    Rejecting  epoch based on EEG : ['Ch2', 'Ch4', 'Ch29', 'Ch30', 'Ch31', 'Ch32']\n",
      "    Rejecting  epoch based on EEG : ['Ch29', 'Ch30', 'Ch31', 'Ch32']\n",
      "    Rejecting  epoch based on EEG : ['Ch29', 'Ch30', 'Ch31', 'Ch32']\n",
      "    Rejecting  epoch based on EEG : ['Ch29', 'Ch30', 'Ch31']\n",
      "    Rejecting  epoch based on EEG : ['Ch29', 'Ch30', 'Ch31', 'Ch32']\n",
      "    Rejecting  epoch based on EEG : ['Ch29', 'Ch30', 'Ch31', 'Ch32']\n",
      "    Rejecting  epoch based on EEG : ['Ch2', 'Ch29', 'Ch30', 'Ch31', 'Ch32']\n",
      "    Rejecting  epoch based on EEG : ['Ch4', 'Ch29', 'Ch30', 'Ch31', 'Ch32']\n",
      "    Rejecting  epoch based on EEG : ['Ch4', 'Ch29', 'Ch30', 'Ch31', 'Ch32']\n",
      "    Rejecting  epoch based on EEG : ['Ch2', 'Ch4', 'Ch29', 'Ch30', 'Ch31', 'Ch32']\n",
      "    Rejecting  epoch based on EEG : ['Ch29', 'Ch30', 'Ch31', 'Ch32']\n",
      "    Rejecting  epoch based on EEG : ['Ch29', 'Ch30', 'Ch31', 'Ch32']\n",
      "    Rejecting  epoch based on EEG : ['Ch29', 'Ch30', 'Ch31', 'Ch32']\n",
      "    Rejecting  epoch based on EEG : ['Ch29', 'Ch30', 'Ch31', 'Ch32']\n",
      "    Rejecting  epoch based on EEG : ['Ch29', 'Ch30', 'Ch31', 'Ch32']\n",
      "    Rejecting  epoch based on EEG : ['Ch29', 'Ch30', 'Ch31', 'Ch32']\n",
      "    Rejecting  epoch based on EEG : ['Ch29', 'Ch30', 'Ch31', 'Ch32']\n",
      "    Rejecting  epoch based on EEG : ['Ch29', 'Ch30', 'Ch31', 'Ch32']\n",
      "    Rejecting  epoch based on EEG : ['Ch29', 'Ch30', 'Ch31', 'Ch32']\n",
      "    Rejecting  epoch based on EEG : ['Ch29', 'Ch30', 'Ch31', 'Ch32']\n",
      "    Rejecting  epoch based on EEG : ['Ch29', 'Ch30', 'Ch31', 'Ch32']\n",
      "    Rejecting  epoch based on EEG : ['Ch29', 'Ch30', 'Ch31', 'Ch32']\n",
      "    Rejecting  epoch based on EEG : ['Ch29', 'Ch30', 'Ch31', 'Ch32']\n",
      "    Rejecting  epoch based on EEG : ['Ch29', 'Ch30', 'Ch31', 'Ch32']\n",
      "    Rejecting  epoch based on EEG : ['Ch29', 'Ch30', 'Ch31', 'Ch32']\n",
      "    Rejecting  epoch based on EEG : ['Ch29', 'Ch30', 'Ch31', 'Ch32']\n",
      "    Rejecting  epoch based on EEG : ['Ch29', 'Ch30', 'Ch31', 'Ch32']\n",
      "    Rejecting  epoch based on EEG : ['Ch29', 'Ch30', 'Ch31', 'Ch32']\n",
      "    Rejecting  epoch based on EEG : ['Ch29', 'Ch30', 'Ch31', 'Ch32']\n",
      "    Rejecting  epoch based on EEG : ['Ch29', 'Ch30', 'Ch31', 'Ch32']\n",
      "    Rejecting  epoch based on EEG : ['Ch29', 'Ch30', 'Ch31', 'Ch32']\n",
      "    Rejecting  epoch based on EEG : ['Ch29', 'Ch30', 'Ch31', 'Ch32']\n",
      "    Rejecting  epoch based on EEG : ['Ch29', 'Ch30', 'Ch31', 'Ch32']\n",
      "    Rejecting  epoch based on EEG : ['Ch29', 'Ch30', 'Ch31', 'Ch32']\n",
      "    Rejecting  epoch based on EEG : ['Ch29', 'Ch30', 'Ch32']\n",
      "    Rejecting  epoch based on EEG : ['Ch29', 'Ch30', 'Ch31', 'Ch32']\n",
      "    Rejecting  epoch based on EEG : ['Ch29', 'Ch30', 'Ch31', 'Ch32']\n",
      "    Rejecting  epoch based on EEG : ['Ch27', 'Ch29', 'Ch30', 'Ch31', 'Ch32']\n",
      "    Rejecting  epoch based on EEG : ['Ch29', 'Ch30', 'Ch31', 'Ch32']\n",
      "    Rejecting  epoch based on EEG : ['Ch29', 'Ch30', 'Ch31', 'Ch32']\n",
      "    Rejecting  epoch based on EEG : ['Ch29', 'Ch30', 'Ch31', 'Ch32']\n",
      "    Rejecting  epoch based on EEG : ['Ch29', 'Ch30', 'Ch31', 'Ch32']\n",
      "    Rejecting  epoch based on EEG : ['Ch29', 'Ch30', 'Ch31', 'Ch32']\n",
      "    Rejecting  epoch based on EEG : ['Ch29', 'Ch30', 'Ch31', 'Ch32']\n",
      "    Rejecting  epoch based on EEG : ['Ch27', 'Ch29', 'Ch30', 'Ch32']\n",
      "    Rejecting  epoch based on EEG : ['Ch27', 'Ch29', 'Ch30', 'Ch31', 'Ch32']\n",
      "    Rejecting  epoch based on EEG : ['Ch15', 'Ch27', 'Ch29', 'Ch30', 'Ch31', 'Ch32']\n",
      "    Rejecting  epoch based on EEG : ['Ch27', 'Ch29', 'Ch30', 'Ch31', 'Ch32']\n",
      "    Rejecting  epoch based on EEG : ['Ch29', 'Ch30', 'Ch31', 'Ch32']\n",
      "    Rejecting  epoch based on EEG : ['Ch29', 'Ch30', 'Ch31', 'Ch32']\n",
      "    Rejecting  epoch based on EEG : ['Ch29', 'Ch30', 'Ch31', 'Ch32']\n",
      "    Rejecting  epoch based on EEG : ['Ch29', 'Ch30', 'Ch31', 'Ch32']\n",
      "    Rejecting  epoch based on EEG : ['Ch29', 'Ch30', 'Ch32']\n",
      "    Rejecting  epoch based on EEG : ['Ch27', 'Ch29', 'Ch30', 'Ch31', 'Ch32']\n",
      "    Rejecting  epoch based on EEG : ['Ch15', 'Ch27', 'Ch29', 'Ch30', 'Ch32']\n",
      "    Rejecting  epoch based on EEG : ['Ch27', 'Ch29', 'Ch30', 'Ch32']\n",
      "    Rejecting  epoch based on EEG : ['Ch27', 'Ch29', 'Ch30', 'Ch32']\n",
      "    Rejecting  epoch based on EEG : ['Ch27', 'Ch29', 'Ch30', 'Ch31', 'Ch32']\n",
      "    Rejecting  epoch based on EEG : ['Ch15', 'Ch27', 'Ch29', 'Ch30', 'Ch31', 'Ch32']\n",
      "    Rejecting  epoch based on EEG : ['Ch15', 'Ch27', 'Ch29', 'Ch30', 'Ch32']\n",
      "    Rejecting  epoch based on EEG : ['Ch27', 'Ch29', 'Ch30', 'Ch32']\n",
      "    Rejecting  epoch based on EEG : ['Ch27', 'Ch29', 'Ch30', 'Ch31', 'Ch32']\n",
      "    Rejecting  epoch based on EEG : ['Ch27', 'Ch29', 'Ch30', 'Ch31', 'Ch32']\n",
      "    Rejecting  epoch based on EEG : ['Ch27', 'Ch29', 'Ch30', 'Ch31', 'Ch32']\n",
      "    Rejecting  epoch based on EEG : ['Ch27', 'Ch29', 'Ch30', 'Ch31', 'Ch32']\n",
      "    Rejecting  epoch based on EEG : ['Ch15', 'Ch27', 'Ch29', 'Ch30', 'Ch31', 'Ch32']\n",
      "    Rejecting  epoch based on EEG : ['Ch15', 'Ch27', 'Ch29', 'Ch30', 'Ch31', 'Ch32']\n",
      "    Rejecting  epoch based on EEG : ['Ch15', 'Ch27', 'Ch29', 'Ch30', 'Ch31', 'Ch32']\n",
      "    Rejecting  epoch based on EEG : ['Ch15', 'Ch27', 'Ch28', 'Ch29', 'Ch30', 'Ch31', 'Ch32']\n",
      "    Rejecting  epoch based on EEG : ['Ch27', 'Ch28', 'Ch29', 'Ch30', 'Ch31', 'Ch32']\n",
      "    Rejecting  epoch based on EEG : ['Ch27', 'Ch28', 'Ch29', 'Ch30', 'Ch31', 'Ch32']\n",
      "    Rejecting  epoch based on EEG : ['Ch15', 'Ch27', 'Ch28', 'Ch29', 'Ch30', 'Ch31', 'Ch32']\n",
      "    Rejecting  epoch based on EEG : ['Ch27', 'Ch29', 'Ch30', 'Ch31', 'Ch32']\n",
      "    Rejecting  epoch based on EEG : ['Ch27', 'Ch29', 'Ch30', 'Ch31', 'Ch32']\n",
      "96 bad epochs dropped\n",
      "坏段剔除后剩余 trial 数量: 0 (丢弃了 96 个)\n",
      "处理完成，已保存至: ./data/val-processed/\n",
      "--- 开始处理: sub-023_ses-02_task_motorimagery_eeg.mat ---\n"
     ]
    },
    {
     "name": "stderr",
     "output_type": "stream",
     "text": [
      "C:\\Users\\16155\\AppData\\Local\\Temp\\ipykernel_22080\\3959141652.py:60: RuntimeWarning: All epochs were dropped!\n",
      "You might need to alter reject/flat-criteria or drop bad channels to avoid this. You can use Epochs.plot_drop_log() to see which channels are responsible for the dropping of epochs.\n",
      "  epochs.drop_bad(reject=reject_criteria, verbose=True)\n",
      "C:\\Users\\16155\\AppData\\Local\\Temp\\ipykernel_22080\\3959141652.py:74: RuntimeWarning: Saving epochs with no data\n",
      "  epochs.save(epoch_save_path, overwrite=True, verbose=False)\n",
      "C:\\Users\\16155\\AppData\\Local\\Temp\\ipykernel_22080\\3959141652.py:74: RuntimeWarning: epochs._get_data() can't run because this Epochs-object is empty. You might want to check Epochs.drop_log or Epochs.plot_drop_log() to see why epochs were dropped.\n",
      "  epochs.save(epoch_save_path, overwrite=True, verbose=False)\n",
      "C:\\Users\\16155\\AppData\\Local\\Temp\\ipykernel_22080\\3959141652.py:31: RuntimeWarning: filter_length (1651) is longer than the signal (1000), distortion is likely. Reduce filter length or filter a longer signal.\n",
      "  eeg_data_notched = mne.filter.notch_filter(\n"
     ]
    },
    {
     "name": "stdout",
     "output_type": "stream",
     "text": [
      "原始 trial 数量: 94\n",
      "    Rejecting  epoch based on EEG : ['Ch31']\n",
      "    Rejecting  epoch based on EEG : ['Ch1']\n",
      "    Rejecting  epoch based on EEG : ['Ch1']\n",
      "    Rejecting  epoch based on EEG : ['Ch1']\n",
      "    Rejecting  epoch based on EEG : ['Ch1']\n",
      "    Rejecting  epoch based on EEG : ['Ch1']\n",
      "    Rejecting  epoch based on EEG : ['Ch1']\n",
      "    Rejecting  epoch based on EEG : ['Ch1']\n",
      "    Rejecting  epoch based on EEG : ['Ch1']\n",
      "    Rejecting  epoch based on EEG : ['Ch1']\n",
      "    Rejecting  epoch based on EEG : ['Ch1']\n",
      "    Rejecting  epoch based on EEG : ['Ch1']\n",
      "    Rejecting  epoch based on EEG : ['Ch1']\n",
      "    Rejecting  epoch based on EEG : ['Ch1']\n",
      "    Rejecting  epoch based on EEG : ['Ch1']\n",
      "    Rejecting  epoch based on EEG : ['Ch1']\n",
      "    Rejecting  epoch based on EEG : ['Ch1']\n",
      "    Rejecting  epoch based on EEG : ['Ch1']\n",
      "    Rejecting  epoch based on EEG : ['Ch30', 'Ch31']\n",
      "    Rejecting  epoch based on EEG : ['Ch1']\n",
      "    Rejecting  epoch based on EEG : ['Ch1']\n",
      "    Rejecting  epoch based on EEG : ['Ch1']\n",
      "    Rejecting  epoch based on EEG : ['Ch1']\n",
      "    Rejecting  epoch based on EEG : ['Ch1']\n",
      "    Rejecting  epoch based on EEG : ['Ch1']\n",
      "    Rejecting  epoch based on EEG : ['Ch1']\n",
      "    Rejecting  epoch based on EEG : ['Ch1']\n",
      "    Rejecting  epoch based on EEG : ['Ch1']\n",
      "    Rejecting  epoch based on EEG : ['Ch1']\n",
      "    Rejecting  epoch based on EEG : ['Ch1']\n",
      "    Rejecting  epoch based on EEG : ['Ch1']\n",
      "    Rejecting  epoch based on EEG : ['Ch1']\n",
      "    Rejecting  epoch based on EEG : ['Ch1']\n",
      "    Rejecting  epoch based on EEG : ['Ch1']\n",
      "    Rejecting  epoch based on EEG : ['Ch1']\n",
      "    Rejecting  epoch based on EEG : ['Ch1']\n",
      "    Rejecting  epoch based on EEG : ['Ch1']\n",
      "    Rejecting  epoch based on EEG : ['Ch1']\n",
      "    Rejecting  epoch based on EEG : ['Ch1']\n",
      "    Rejecting  epoch based on EEG : ['Ch1']\n",
      "    Rejecting  epoch based on EEG : ['Ch1']\n",
      "    Rejecting  epoch based on EEG : ['Ch1']\n",
      "    Rejecting  epoch based on EEG : ['Ch4']\n",
      "    Rejecting  epoch based on EEG : ['Ch1', 'Ch4', 'Ch11']\n",
      "    Rejecting  epoch based on EEG : ['Ch4', 'Ch11']\n",
      "45 bad epochs dropped\n",
      "坏段剔除后剩余 trial 数量: 49 (丢弃了 45 个)\n",
      "处理完成，已保存至: ./data/val-processed/\n",
      "--- 开始处理: sub-023_ses-03_task_motorimagery_eeg.mat ---\n"
     ]
    },
    {
     "name": "stderr",
     "output_type": "stream",
     "text": [
      "C:\\Users\\16155\\AppData\\Local\\Temp\\ipykernel_22080\\3959141652.py:31: RuntimeWarning: filter_length (1651) is longer than the signal (1000), distortion is likely. Reduce filter length or filter a longer signal.\n",
      "  eeg_data_notched = mne.filter.notch_filter(\n"
     ]
    },
    {
     "name": "stdout",
     "output_type": "stream",
     "text": [
      "原始 trial 数量: 99\n",
      "    Rejecting  epoch based on EEG : ['Ch4']\n",
      "    Rejecting  epoch based on EEG : ['Ch4']\n",
      "    Rejecting  epoch based on EEG : ['Ch4']\n",
      "    Rejecting  epoch based on EEG : ['Ch4']\n",
      "    Rejecting  epoch based on EEG : ['Ch4']\n",
      "    Rejecting  epoch based on EEG : ['Ch4']\n",
      "    Rejecting  epoch based on EEG : ['Ch4']\n",
      "    Rejecting  epoch based on EEG : ['Ch4']\n",
      "    Rejecting  epoch based on EEG : ['Ch4']\n",
      "    Rejecting  epoch based on EEG : ['Ch4']\n",
      "    Rejecting  epoch based on EEG : ['Ch4']\n",
      "    Rejecting  epoch based on EEG : ['Ch4']\n",
      "    Rejecting  epoch based on EEG : ['Ch4']\n",
      "    Rejecting  epoch based on EEG : ['Ch4']\n",
      "    Rejecting  epoch based on EEG : ['Ch4']\n",
      "    Rejecting  epoch based on EEG : ['Ch4']\n",
      "    Rejecting  epoch based on EEG : ['Ch4']\n",
      "    Rejecting  epoch based on EEG : ['Ch4']\n",
      "    Rejecting  epoch based on EEG : ['Ch4']\n",
      "    Rejecting  epoch based on EEG : ['Ch4']\n",
      "    Rejecting  epoch based on EEG : ['Ch4']\n",
      "    Rejecting  epoch based on EEG : ['Ch4']\n",
      "    Rejecting  epoch based on EEG : ['Ch4']\n",
      "    Rejecting  epoch based on EEG : ['Ch4']\n",
      "    Rejecting  epoch based on EEG : ['Ch4']\n",
      "    Rejecting  epoch based on EEG : ['Ch4']\n",
      "    Rejecting  epoch based on EEG : ['Ch4']\n",
      "    Rejecting  epoch based on EEG : ['Ch4']\n",
      "    Rejecting  epoch based on EEG : ['Ch4']\n",
      "    Rejecting  epoch based on EEG : ['Ch4']\n",
      "    Rejecting  epoch based on EEG : ['Ch4']\n",
      "    Rejecting  epoch based on EEG : ['Ch4']\n",
      "    Rejecting  epoch based on EEG : ['Ch4']\n",
      "    Rejecting  epoch based on EEG : ['Ch4']\n",
      "    Rejecting  epoch based on EEG : ['Ch4', 'Ch6', 'Ch32']\n",
      "    Rejecting  epoch based on EEG : ['Ch4']\n",
      "    Rejecting  epoch based on EEG : ['Ch4']\n",
      "    Rejecting  epoch based on EEG : ['Ch32']\n",
      "    Rejecting  epoch based on EEG : ['Ch2', 'Ch4', 'Ch7', 'Ch10', 'Ch11', 'Ch14', 'Ch18', 'Ch30', 'Ch31', 'Ch32']\n",
      "    Rejecting  epoch based on EEG : ['Ch2', 'Ch7', 'Ch10', 'Ch11', 'Ch14', 'Ch18', 'Ch30', 'Ch31']\n",
      "    Rejecting  epoch based on EEG : ['Ch4']\n",
      "41 bad epochs dropped\n",
      "坏段剔除后剩余 trial 数量: 58 (丢弃了 41 个)\n",
      "处理完成，已保存至: ./data/val-processed/\n",
      "--- 开始处理: sub-023_ses-04_task_motorimagery_eeg.mat ---\n"
     ]
    },
    {
     "name": "stderr",
     "output_type": "stream",
     "text": [
      "C:\\Users\\16155\\AppData\\Local\\Temp\\ipykernel_22080\\3959141652.py:31: RuntimeWarning: filter_length (1651) is longer than the signal (1000), distortion is likely. Reduce filter length or filter a longer signal.\n",
      "  eeg_data_notched = mne.filter.notch_filter(\n"
     ]
    },
    {
     "name": "stdout",
     "output_type": "stream",
     "text": [
      "原始 trial 数量: 100\n",
      "    Rejecting  epoch based on EEG : ['Ch1']\n",
      "    Rejecting  epoch based on EEG : ['Ch1']\n",
      "    Rejecting  epoch based on EEG : ['Ch1']\n",
      "    Rejecting  epoch based on EEG : ['Ch11', 'Ch13', 'Ch14', 'Ch18']\n",
      "    Rejecting  epoch based on EEG : ['Ch1']\n",
      "    Rejecting  epoch based on EEG : ['Ch1']\n",
      "    Rejecting  epoch based on EEG : ['Ch1']\n",
      "7 bad epochs dropped\n",
      "坏段剔除后剩余 trial 数量: 93 (丢弃了 7 个)\n",
      "处理完成，已保存至: ./data/val-processed/\n",
      "--- 开始处理: sub-023_ses-05_task_motorimagery_eeg.mat ---\n"
     ]
    },
    {
     "name": "stderr",
     "output_type": "stream",
     "text": [
      "C:\\Users\\16155\\AppData\\Local\\Temp\\ipykernel_22080\\3959141652.py:31: RuntimeWarning: filter_length (1651) is longer than the signal (1000), distortion is likely. Reduce filter length or filter a longer signal.\n",
      "  eeg_data_notched = mne.filter.notch_filter(\n"
     ]
    },
    {
     "name": "stdout",
     "output_type": "stream",
     "text": [
      "原始 trial 数量: 97\n",
      "    Rejecting  epoch based on EEG : ['Ch9']\n",
      "    Rejecting  epoch based on EEG : ['Ch3']\n",
      "    Rejecting  epoch based on EEG : ['Ch3']\n",
      "    Rejecting  epoch based on EEG : ['Ch3', 'Ch30']\n",
      "    Rejecting  epoch based on EEG : ['Ch30']\n",
      "    Rejecting  epoch based on EEG : ['Ch3']\n",
      "6 bad epochs dropped\n",
      "坏段剔除后剩余 trial 数量: 91 (丢弃了 6 个)\n",
      "处理完成，已保存至: ./data/val-processed/\n",
      "--- 开始处理: sub-024_ses-01_task_motorimagery_eeg.mat ---\n"
     ]
    },
    {
     "name": "stderr",
     "output_type": "stream",
     "text": [
      "C:\\Users\\16155\\AppData\\Local\\Temp\\ipykernel_22080\\3959141652.py:31: RuntimeWarning: filter_length (1651) is longer than the signal (1000), distortion is likely. Reduce filter length or filter a longer signal.\n",
      "  eeg_data_notched = mne.filter.notch_filter(\n"
     ]
    },
    {
     "name": "stdout",
     "output_type": "stream",
     "text": [
      "原始 trial 数量: 74\n",
      "0 bad epochs dropped\n",
      "坏段剔除后剩余 trial 数量: 74 (丢弃了 0 个)\n",
      "处理完成，已保存至: ./data/val-processed/\n",
      "--- 开始处理: sub-024_ses-02_task_motorimagery_eeg.mat ---\n"
     ]
    },
    {
     "name": "stderr",
     "output_type": "stream",
     "text": [
      "C:\\Users\\16155\\AppData\\Local\\Temp\\ipykernel_22080\\3959141652.py:31: RuntimeWarning: filter_length (1651) is longer than the signal (1000), distortion is likely. Reduce filter length or filter a longer signal.\n",
      "  eeg_data_notched = mne.filter.notch_filter(\n"
     ]
    },
    {
     "name": "stdout",
     "output_type": "stream",
     "text": [
      "原始 trial 数量: 82\n",
      "    Rejecting  epoch based on EEG : ['Ch29']\n",
      "    Rejecting  epoch based on EEG : ['Ch29']\n",
      "    Rejecting  epoch based on EEG : ['Ch1', 'Ch2', 'Ch21']\n",
      "3 bad epochs dropped\n",
      "坏段剔除后剩余 trial 数量: 79 (丢弃了 3 个)\n",
      "处理完成，已保存至: ./data/val-processed/\n",
      "--- 开始处理: sub-024_ses-03_task_motorimagery_eeg.mat ---\n"
     ]
    },
    {
     "name": "stderr",
     "output_type": "stream",
     "text": [
      "C:\\Users\\16155\\AppData\\Local\\Temp\\ipykernel_22080\\3959141652.py:31: RuntimeWarning: filter_length (1651) is longer than the signal (1000), distortion is likely. Reduce filter length or filter a longer signal.\n",
      "  eeg_data_notched = mne.filter.notch_filter(\n"
     ]
    },
    {
     "name": "stdout",
     "output_type": "stream",
     "text": [
      "原始 trial 数量: 83\n",
      "    Rejecting  epoch based on EEG : ['Ch24', 'Ch28']\n",
      "    Rejecting  epoch based on EEG : ['Ch24', 'Ch28']\n",
      "    Rejecting  epoch based on EEG : ['Ch24', 'Ch28']\n",
      "    Rejecting  epoch based on EEG : ['Ch24', 'Ch28']\n",
      "    Rejecting  epoch based on EEG : ['Ch24', 'Ch28']\n",
      "    Rejecting  epoch based on EEG : ['Ch24', 'Ch28']\n",
      "    Rejecting  epoch based on EEG : ['Ch24', 'Ch28']\n",
      "    Rejecting  epoch based on EEG : ['Ch24', 'Ch28']\n",
      "    Rejecting  epoch based on EEG : ['Ch28']\n",
      "    Rejecting  epoch based on EEG : ['Ch28']\n",
      "    Rejecting  epoch based on EEG : ['Ch28']\n",
      "    Rejecting  epoch based on EEG : ['Ch28']\n",
      "    Rejecting  epoch based on EEG : ['Ch24', 'Ch28']\n",
      "    Rejecting  epoch based on EEG : ['Ch24', 'Ch28']\n",
      "    Rejecting  epoch based on EEG : ['Ch28']\n",
      "    Rejecting  epoch based on EEG : ['Ch28']\n",
      "    Rejecting  epoch based on EEG : ['Ch28']\n",
      "    Rejecting  epoch based on EEG : ['Ch28']\n",
      "    Rejecting  epoch based on EEG : ['Ch24', 'Ch28']\n",
      "    Rejecting  epoch based on EEG : ['Ch24', 'Ch28']\n",
      "    Rejecting  epoch based on EEG : ['Ch24', 'Ch28']\n",
      "    Rejecting  epoch based on EEG : ['Ch24', 'Ch28']\n",
      "    Rejecting  epoch based on EEG : ['Ch24', 'Ch28']\n",
      "    Rejecting  epoch based on EEG : ['Ch24', 'Ch28']\n",
      "24 bad epochs dropped\n",
      "坏段剔除后剩余 trial 数量: 59 (丢弃了 24 个)\n",
      "处理完成，已保存至: ./data/val-processed/\n",
      "--- 开始处理: sub-024_ses-04_task_motorimagery_eeg.mat ---\n"
     ]
    },
    {
     "name": "stderr",
     "output_type": "stream",
     "text": [
      "C:\\Users\\16155\\AppData\\Local\\Temp\\ipykernel_22080\\3959141652.py:31: RuntimeWarning: filter_length (1651) is longer than the signal (1000), distortion is likely. Reduce filter length or filter a longer signal.\n",
      "  eeg_data_notched = mne.filter.notch_filter(\n"
     ]
    },
    {
     "name": "stdout",
     "output_type": "stream",
     "text": [
      "原始 trial 数量: 98\n",
      "    Rejecting  epoch based on EEG : ['Ch29', 'Ch32']\n",
      "    Rejecting  epoch based on EEG : ['Ch29']\n",
      "    Rejecting  epoch based on EEG : ['Ch29', 'Ch31', 'Ch32']\n",
      "    Rejecting  epoch based on EEG : ['Ch29']\n",
      "    Rejecting  epoch based on EEG : ['Ch29', 'Ch31', 'Ch32']\n",
      "    Rejecting  epoch based on EEG : ['Ch29', 'Ch31', 'Ch32']\n",
      "    Rejecting  epoch based on EEG : ['Ch29', 'Ch31', 'Ch32']\n",
      "    Rejecting  epoch based on EEG : ['Ch29', 'Ch31', 'Ch32']\n",
      "    Rejecting  epoch based on EEG : ['Ch25', 'Ch29', 'Ch31', 'Ch32']\n",
      "    Rejecting  epoch based on EEG : ['Ch25', 'Ch29']\n",
      "    Rejecting  epoch based on EEG : ['Ch25', 'Ch29', 'Ch32']\n",
      "    Rejecting  epoch based on EEG : ['Ch25', 'Ch29']\n",
      "    Rejecting  epoch based on EEG : ['Ch25', 'Ch29', 'Ch31']\n",
      "    Rejecting  epoch based on EEG : ['Ch25', 'Ch29', 'Ch32']\n",
      "    Rejecting  epoch based on EEG : ['Ch25', 'Ch29']\n",
      "    Rejecting  epoch based on EEG : ['Ch25', 'Ch29']\n",
      "    Rejecting  epoch based on EEG : ['Ch25', 'Ch29', 'Ch32']\n",
      "    Rejecting  epoch based on EEG : ['Ch25', 'Ch29', 'Ch32']\n",
      "    Rejecting  epoch based on EEG : ['Ch22', 'Ch25', 'Ch27', 'Ch29', 'Ch31', 'Ch32']\n",
      "    Rejecting  epoch based on EEG : ['Ch25', 'Ch29', 'Ch32']\n",
      "    Rejecting  epoch based on EEG : ['Ch15', 'Ch29']\n",
      "    Rejecting  epoch based on EEG : ['Ch29']\n",
      "    Rejecting  epoch based on EEG : ['Ch29']\n",
      "    Rejecting  epoch based on EEG : ['Ch29']\n",
      "    Rejecting  epoch based on EEG : ['Ch29']\n",
      "25 bad epochs dropped\n",
      "坏段剔除后剩余 trial 数量: 73 (丢弃了 25 个)\n",
      "处理完成，已保存至: ./data/val-processed/\n",
      "--- 开始处理: sub-024_ses-05_task_motorimagery_eeg.mat ---\n"
     ]
    },
    {
     "name": "stderr",
     "output_type": "stream",
     "text": [
      "C:\\Users\\16155\\AppData\\Local\\Temp\\ipykernel_22080\\3959141652.py:31: RuntimeWarning: filter_length (1651) is longer than the signal (1000), distortion is likely. Reduce filter length or filter a longer signal.\n",
      "  eeg_data_notched = mne.filter.notch_filter(\n"
     ]
    },
    {
     "name": "stdout",
     "output_type": "stream",
     "text": [
      "原始 trial 数量: 100\n",
      "    Rejecting  epoch based on EEG : ['Ch9']\n",
      "1 bad epochs dropped\n",
      "坏段剔除后剩余 trial 数量: 99 (丢弃了 1 个)\n",
      "处理完成，已保存至: ./data/val-processed/\n",
      "--- 开始处理: sub-025_ses-01_task_motorimagery_eeg.mat ---\n"
     ]
    },
    {
     "name": "stderr",
     "output_type": "stream",
     "text": [
      "C:\\Users\\16155\\AppData\\Local\\Temp\\ipykernel_22080\\3959141652.py:31: RuntimeWarning: filter_length (1651) is longer than the signal (1000), distortion is likely. Reduce filter length or filter a longer signal.\n",
      "  eeg_data_notched = mne.filter.notch_filter(\n"
     ]
    },
    {
     "name": "stdout",
     "output_type": "stream",
     "text": [
      "原始 trial 数量: 88\n",
      "    Rejecting  epoch based on EEG : ['Ch7']\n",
      "    Rejecting  epoch based on EEG : ['Ch7']\n",
      "    Rejecting  epoch based on EEG : ['Ch4', 'Ch7']\n",
      "    Rejecting  epoch based on EEG : ['Ch4', 'Ch7']\n",
      "    Rejecting  epoch based on EEG : ['Ch7']\n",
      "    Rejecting  epoch based on EEG : ['Ch15']\n",
      "    Rejecting  epoch based on EEG : ['Ch4']\n",
      "    Rejecting  epoch based on EEG : ['Ch4']\n",
      "    Rejecting  epoch based on EEG : ['Ch4']\n",
      "9 bad epochs dropped\n",
      "坏段剔除后剩余 trial 数量: 79 (丢弃了 9 个)\n",
      "处理完成，已保存至: ./data/val-processed/\n",
      "--- 开始处理: sub-025_ses-02_task_motorimagery_eeg.mat ---\n"
     ]
    },
    {
     "name": "stderr",
     "output_type": "stream",
     "text": [
      "C:\\Users\\16155\\AppData\\Local\\Temp\\ipykernel_22080\\3959141652.py:31: RuntimeWarning: filter_length (1651) is longer than the signal (1000), distortion is likely. Reduce filter length or filter a longer signal.\n",
      "  eeg_data_notched = mne.filter.notch_filter(\n"
     ]
    },
    {
     "name": "stdout",
     "output_type": "stream",
     "text": [
      "原始 trial 数量: 92\n",
      "    Rejecting  epoch based on EEG : ['Ch10']\n",
      "    Rejecting  epoch based on EEG : ['Ch10']\n",
      "    Rejecting  epoch based on EEG : ['Ch16']\n",
      "    Rejecting  epoch based on EEG : ['Ch10']\n",
      "    Rejecting  epoch based on EEG : ['Ch19']\n",
      "    Rejecting  epoch based on EEG : ['Ch11', 'Ch16']\n",
      "    Rejecting  epoch based on EEG : ['Ch19']\n",
      "    Rejecting  epoch based on EEG : ['Ch19']\n",
      "    Rejecting  epoch based on EEG : ['Ch10', 'Ch11', 'Ch16', 'Ch19']\n",
      "    Rejecting  epoch based on EEG : ['Ch11', 'Ch16']\n",
      "    Rejecting  epoch based on EEG : ['Ch16', 'Ch19']\n",
      "    Rejecting  epoch based on EEG : ['Ch19']\n",
      "12 bad epochs dropped\n",
      "坏段剔除后剩余 trial 数量: 80 (丢弃了 12 个)\n",
      "处理完成，已保存至: ./data/val-processed/\n",
      "--- 开始处理: sub-025_ses-03_task_motorimagery_eeg.mat ---\n"
     ]
    },
    {
     "name": "stderr",
     "output_type": "stream",
     "text": [
      "C:\\Users\\16155\\AppData\\Local\\Temp\\ipykernel_22080\\3959141652.py:31: RuntimeWarning: filter_length (1651) is longer than the signal (1000), distortion is likely. Reduce filter length or filter a longer signal.\n",
      "  eeg_data_notched = mne.filter.notch_filter(\n"
     ]
    },
    {
     "name": "stdout",
     "output_type": "stream",
     "text": [
      "原始 trial 数量: 94\n",
      "    Rejecting  epoch based on EEG : ['Ch27']\n",
      "    Rejecting  epoch based on EEG : ['Ch15', 'Ch26']\n",
      "    Rejecting  epoch based on EEG : ['Ch15']\n",
      "    Rejecting  epoch based on EEG : ['Ch15']\n",
      "    Rejecting  epoch based on EEG : ['Ch15']\n",
      "    Rejecting  epoch based on EEG : ['Ch15', 'Ch24']\n",
      "    Rejecting  epoch based on EEG : ['Ch15', 'Ch22']\n",
      "    Rejecting  epoch based on EEG : ['Ch22', 'Ch24']\n",
      "    Rejecting  epoch based on EEG : ['Ch24']\n",
      "    Rejecting  epoch based on EEG : ['Ch24']\n",
      "    Rejecting  epoch based on EEG : ['Ch24']\n",
      "    Rejecting  epoch based on EEG : ['Ch24']\n",
      "    Rejecting  epoch based on EEG : ['Ch15']\n",
      "    Rejecting  epoch based on EEG : ['Ch15']\n",
      "    Rejecting  epoch based on EEG : ['Ch15']\n",
      "    Rejecting  epoch based on EEG : ['Ch15']\n",
      "    Rejecting  epoch based on EEG : ['Ch22']\n",
      "    Rejecting  epoch based on EEG : ['Ch15']\n",
      "    Rejecting  epoch based on EEG : ['Ch29']\n",
      "    Rejecting  epoch based on EEG : ['Ch15', 'Ch22', 'Ch29']\n",
      "    Rejecting  epoch based on EEG : ['Ch15', 'Ch22', 'Ch29']\n",
      "    Rejecting  epoch based on EEG : ['Ch15']\n",
      "    Rejecting  epoch based on EEG : ['Ch29']\n",
      "    Rejecting  epoch based on EEG : ['Ch15']\n",
      "    Rejecting  epoch based on EEG : ['Ch15']\n",
      "    Rejecting  epoch based on EEG : ['Ch15', 'Ch29']\n",
      "    Rejecting  epoch based on EEG : ['Ch29']\n",
      "    Rejecting  epoch based on EEG : ['Ch29']\n",
      "    Rejecting  epoch based on EEG : ['Ch15']\n",
      "    Rejecting  epoch based on EEG : ['Ch15', 'Ch29']\n",
      "    Rejecting  epoch based on EEG : ['Ch15', 'Ch29']\n",
      "    Rejecting  epoch based on EEG : ['Ch15', 'Ch29']\n",
      "    Rejecting  epoch based on EEG : ['Ch29']\n",
      "    Rejecting  epoch based on EEG : ['Ch15']\n",
      "    Rejecting  epoch based on EEG : ['Ch29']\n",
      "    Rejecting  epoch based on EEG : ['Ch15', 'Ch26', 'Ch29']\n",
      "    Rejecting  epoch based on EEG : ['Ch15', 'Ch29']\n",
      "    Rejecting  epoch based on EEG : ['Ch15', 'Ch29']\n",
      "    Rejecting  epoch based on EEG : ['Ch15', 'Ch26', 'Ch29']\n",
      "    Rejecting  epoch based on EEG : ['Ch15', 'Ch29']\n",
      "    Rejecting  epoch based on EEG : ['Ch15', 'Ch29']\n",
      "    Rejecting  epoch based on EEG : ['Ch15', 'Ch26', 'Ch29']\n",
      "    Rejecting  epoch based on EEG : ['Ch15', 'Ch26', 'Ch29']\n",
      "    Rejecting  epoch based on EEG : ['Ch15', 'Ch29']\n",
      "    Rejecting  epoch based on EEG : ['Ch15', 'Ch29']\n",
      "    Rejecting  epoch based on EEG : ['Ch15', 'Ch26', 'Ch29']\n",
      "    Rejecting  epoch based on EEG : ['Ch15', 'Ch26', 'Ch29']\n",
      "    Rejecting  epoch based on EEG : ['Ch15', 'Ch29']\n",
      "    Rejecting  epoch based on EEG : ['Ch15', 'Ch26', 'Ch29']\n",
      "    Rejecting  epoch based on EEG : ['Ch15', 'Ch25', 'Ch29', 'Ch32']\n",
      "    Rejecting  epoch based on EEG : ['Ch15', 'Ch25', 'Ch26', 'Ch29', 'Ch32']\n",
      "    Rejecting  epoch based on EEG : ['Ch15', 'Ch25', 'Ch26', 'Ch29', 'Ch32']\n",
      "52 bad epochs dropped\n",
      "坏段剔除后剩余 trial 数量: 42 (丢弃了 52 个)\n",
      "处理完成，已保存至: ./data/val-processed/\n",
      "--- 开始处理: sub-025_ses-04_task_motorimagery_eeg.mat ---\n"
     ]
    },
    {
     "name": "stderr",
     "output_type": "stream",
     "text": [
      "C:\\Users\\16155\\AppData\\Local\\Temp\\ipykernel_22080\\3959141652.py:31: RuntimeWarning: filter_length (1651) is longer than the signal (1000), distortion is likely. Reduce filter length or filter a longer signal.\n",
      "  eeg_data_notched = mne.filter.notch_filter(\n"
     ]
    },
    {
     "name": "stdout",
     "output_type": "stream",
     "text": [
      "原始 trial 数量: 88\n",
      "    Rejecting  epoch based on EEG : ['Ch29', 'Ch32']\n",
      "    Rejecting  epoch based on EEG : ['Ch29']\n",
      "    Rejecting  epoch based on EEG : ['Ch29']\n",
      "    Rejecting  epoch based on EEG : ['Ch25']\n",
      "    Rejecting  epoch based on EEG : ['Ch25']\n",
      "    Rejecting  epoch based on EEG : ['Ch22', 'Ch25', 'Ch27', 'Ch29']\n",
      "    Rejecting  epoch based on EEG : ['Ch25']\n",
      "    Rejecting  epoch based on EEG : ['Ch22', 'Ch23', 'Ch25', 'Ch27', 'Ch29']\n",
      "    Rejecting  epoch based on EEG : ['Ch22', 'Ch25']\n",
      "    Rejecting  epoch based on EEG : ['Ch25']\n",
      "    Rejecting  epoch based on EEG : ['Ch18']\n",
      "    Rejecting  epoch based on EEG : ['Ch18', 'Ch27']\n",
      "    Rejecting  epoch based on EEG : ['Ch18']\n",
      "    Rejecting  epoch based on EEG : ['Ch16', 'Ch18', 'Ch22', 'Ch27']\n",
      "    Rejecting  epoch based on EEG : ['Ch18']\n",
      "    Rejecting  epoch based on EEG : ['Ch18', 'Ch27']\n",
      "    Rejecting  epoch based on EEG : ['Ch16', 'Ch18', 'Ch23', 'Ch27', 'Ch29']\n",
      "    Rejecting  epoch based on EEG : ['Ch7', 'Ch16', 'Ch18', 'Ch22', 'Ch27']\n",
      "    Rejecting  epoch based on EEG : ['Ch7', 'Ch16', 'Ch18', 'Ch22', 'Ch27']\n",
      "    Rejecting  epoch based on EEG : ['Ch7', 'Ch16', 'Ch18', 'Ch22', 'Ch27']\n",
      "    Rejecting  epoch based on EEG : ['Ch7', 'Ch16', 'Ch18', 'Ch22', 'Ch27']\n",
      "    Rejecting  epoch based on EEG : ['Ch7', 'Ch16', 'Ch18', 'Ch22', 'Ch27']\n",
      "    Rejecting  epoch based on EEG : ['Ch18', 'Ch22', 'Ch27']\n",
      "    Rejecting  epoch based on EEG : ['Ch7', 'Ch16', 'Ch18', 'Ch22', 'Ch27']\n",
      "    Rejecting  epoch based on EEG : ['Ch16', 'Ch18', 'Ch22', 'Ch27']\n",
      "    Rejecting  epoch based on EEG : ['Ch16', 'Ch18', 'Ch22', 'Ch27']\n",
      "    Rejecting  epoch based on EEG : ['Ch16', 'Ch18', 'Ch22', 'Ch27']\n",
      "    Rejecting  epoch based on EEG : ['Ch7', 'Ch16', 'Ch18', 'Ch22', 'Ch27']\n",
      "    Rejecting  epoch based on EEG : ['Ch7', 'Ch16', 'Ch18', 'Ch22', 'Ch27']\n",
      "    Rejecting  epoch based on EEG : ['Ch7', 'Ch16', 'Ch18', 'Ch22', 'Ch27']\n",
      "    Rejecting  epoch based on EEG : ['Ch18', 'Ch27']\n",
      "31 bad epochs dropped\n",
      "坏段剔除后剩余 trial 数量: 57 (丢弃了 31 个)\n",
      "处理完成，已保存至: ./data/val-processed/\n",
      "--- 开始处理: sub-025_ses-05_task_motorimagery_eeg.mat ---\n"
     ]
    },
    {
     "name": "stderr",
     "output_type": "stream",
     "text": [
      "C:\\Users\\16155\\AppData\\Local\\Temp\\ipykernel_22080\\3959141652.py:31: RuntimeWarning: filter_length (1651) is longer than the signal (1000), distortion is likely. Reduce filter length or filter a longer signal.\n",
      "  eeg_data_notched = mne.filter.notch_filter(\n"
     ]
    },
    {
     "name": "stdout",
     "output_type": "stream",
     "text": [
      "原始 trial 数量: 100\n",
      "0 bad epochs dropped\n",
      "坏段剔除后剩余 trial 数量: 100 (丢弃了 0 个)\n",
      "处理完成，已保存至: ./data/val-processed/\n",
      "\n",
      "\n",
      "所有文件批量预处理完成！\n"
     ]
    }
   ],
   "source": [
    "# --- 主逻辑：循环处理所有文件 ---\n",
    "source_dir = './data/val/'\n",
    "processed_dir = './data/val-processed/'\n",
    "os.makedirs(processed_dir, exist_ok=True)\n",
    "\n",
    "# 获取所有待处理的文件列表\n",
    "all_files = [f for f in os.listdir(source_dir) if f.endswith('.mat')] # 因为mac会在下面生成.DS_store!!! orz\n",
    "\n",
    "for filename in all_files:\n",
    "\tfull_file_path = os.path.join(source_dir, filename)\n",
    "\tpreprocess_eeg_file(full_file_path, processed_dir)\n",
    "\n",
    "print(\"\\n\\n所有文件批量预处理完成！\")"
   ]
  },
  {
   "cell_type": "code",
   "execution_count": null,
   "id": "1b7bf3e9",
   "metadata": {},
   "outputs": [],
   "source": []
  }
 ],
 "metadata": {
  "kernelspec": {
   "display_name": "BCI",
   "language": "python",
   "name": "python3"
  },
  "language_info": {
   "codemirror_mode": {
    "name": "ipython",
    "version": 3
   },
   "file_extension": ".py",
   "mimetype": "text/x-python",
   "name": "python",
   "nbconvert_exporter": "python",
   "pygments_lexer": "ipython3",
   "version": "3.12.11"
  }
 },
 "nbformat": 4,
 "nbformat_minor": 5
}
